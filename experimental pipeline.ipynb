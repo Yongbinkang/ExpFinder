{
 "cells": [
  {
   "cell_type": "markdown",
   "metadata": {},
   "source": [
    "# Introduction"
   ]
  },
  {
   "cell_type": "markdown",
   "metadata": {},
   "source": [
    "![Expert-Document graph](https://github.com/Yongbinkang/ExpFinder/blob/main/images/restricted_graph.png?raw=true)\n",
    "<center>\n",
    "    Figure 1: <i>The graph showing the relationship between experts, documents and expertise topics</i>\n",
    "</center>\n",
    "\n",
    "In this notebook, we demonstrate the example of the entire ExpFinder process with restricted example, as shown in the Figure 1. In this example, we set some restrictions as follows:\n",
    "\n",
    "1. $e1$ is expertise in NLP and its applications in healthcare based on the associated documents (e.g. $d1$ and $d2$).\n",
    "2. $e2$ is expertise in three different areas such as NLP, computer vision and their applications in healthcare based on the associated documents (e.g. $d1$ and $d2$).\n",
    "3. $e3$ is only expertise in NLP because he/she only associates to a document $d2$."
   ]
  },
  {
   "cell_type": "markdown",
   "metadata": {},
   "source": [
    "# Libraries"
   ]
  },
  {
   "cell_type": "code",
   "execution_count": 2,
   "metadata": {},
   "outputs": [],
   "source": [
    "import pandas as pd\n",
    "import numpy as np\n",
    "from ast import literal_eval\n",
    "from transformers import BertTokenizer, BertModel\n",
    "import networkx as nx\n",
    "\n",
    "from src.controller import generator, trainer\n",
    "from src.lib import extractor"
   ]
  },
  {
   "cell_type": "markdown",
   "metadata": {},
   "source": [
    "# Data preparation "
   ]
  },
  {
   "cell_type": "code",
   "execution_count": 3,
   "metadata": {},
   "outputs": [],
   "source": [
    "DATA_PATH = './data/'"
   ]
  },
  {
   "cell_type": "code",
   "execution_count": 4,
   "metadata": {},
   "outputs": [],
   "source": [
    "def prepare_data():\n",
    "    ''' This function reads data from the existing data source'''\n",
    "    global DATA_PATH\n",
    "    \n",
    "    doc_df = pd.read_csv('{}raw_data.csv'.format(DATA_PATH))\n",
    "    ed_df = pd.read_csv('{}ep_df.csv'.format(DATA_PATH))\n",
    "    \n",
    "    with open('{}stopword.txt'.format(DATA_PATH)) as f:\n",
    "        stopwords = literal_eval(f.read())\n",
    "    \n",
    "    with open('{}topics.txt'.format(DATA_PATH)) as f:\n",
    "        topics = literal_eval(f.read())\n",
    "    \n",
    "    return doc_df, ed_df, stopwords, topics"
   ]
  },
  {
   "cell_type": "code",
   "execution_count": 5,
   "metadata": {},
   "outputs": [],
   "source": [
    "doc_df, ed_df, stopwords, topics = prepare_data()"
   ]
  },
  {
   "cell_type": "code",
   "execution_count": 6,
   "metadata": {},
   "outputs": [
    {
     "data": {
      "text/html": [
       "<div>\n",
       "<style scoped>\n",
       "    .dataframe tbody tr th:only-of-type {\n",
       "        vertical-align: middle;\n",
       "    }\n",
       "\n",
       "    .dataframe tbody tr th {\n",
       "        vertical-align: top;\n",
       "    }\n",
       "\n",
       "    .dataframe thead th {\n",
       "        text-align: right;\n",
       "    }\n",
       "</style>\n",
       "<table border=\"1\" class=\"dataframe\">\n",
       "  <thead>\n",
       "    <tr style=\"text-align: right;\">\n",
       "      <th></th>\n",
       "      <th>doc_id</th>\n",
       "      <th>text</th>\n",
       "    </tr>\n",
       "  </thead>\n",
       "  <tbody>\n",
       "    <tr>\n",
       "      <th>0</th>\n",
       "      <td>d1</td>\n",
       "      <td>A prerequisite for using electronic health rec...</td>\n",
       "    </tr>\n",
       "    <tr>\n",
       "      <th>1</th>\n",
       "      <td>d2</td>\n",
       "      <td>Word embedding, where semantic and syntactic f...</td>\n",
       "    </tr>\n",
       "    <tr>\n",
       "      <th>2</th>\n",
       "      <td>d3</td>\n",
       "      <td>Structural health monitoring at local and glob...</td>\n",
       "    </tr>\n",
       "  </tbody>\n",
       "</table>\n",
       "</div>"
      ],
      "text/plain": [
       "  doc_id                                               text\n",
       "0     d1  A prerequisite for using electronic health rec...\n",
       "1     d2  Word embedding, where semantic and syntactic f...\n",
       "2     d3  Structural health monitoring at local and glob..."
      ]
     },
     "metadata": {},
     "output_type": "display_data"
    },
    {
     "data": {
      "text/html": [
       "<div>\n",
       "<style scoped>\n",
       "    .dataframe tbody tr th:only-of-type {\n",
       "        vertical-align: middle;\n",
       "    }\n",
       "\n",
       "    .dataframe tbody tr th {\n",
       "        vertical-align: top;\n",
       "    }\n",
       "\n",
       "    .dataframe thead th {\n",
       "        text-align: right;\n",
       "    }\n",
       "</style>\n",
       "<table border=\"1\" class=\"dataframe\">\n",
       "  <thead>\n",
       "    <tr style=\"text-align: right;\">\n",
       "      <th></th>\n",
       "      <th>doc_id</th>\n",
       "      <th>exp_id</th>\n",
       "      <th>weight</th>\n",
       "    </tr>\n",
       "  </thead>\n",
       "  <tbody>\n",
       "    <tr>\n",
       "      <th>0</th>\n",
       "      <td>d1</td>\n",
       "      <td>e1</td>\n",
       "      <td>1</td>\n",
       "    </tr>\n",
       "    <tr>\n",
       "      <th>1</th>\n",
       "      <td>d1</td>\n",
       "      <td>e2</td>\n",
       "      <td>1</td>\n",
       "    </tr>\n",
       "    <tr>\n",
       "      <th>2</th>\n",
       "      <td>d2</td>\n",
       "      <td>e1</td>\n",
       "      <td>1</td>\n",
       "    </tr>\n",
       "    <tr>\n",
       "      <th>3</th>\n",
       "      <td>d2</td>\n",
       "      <td>e3</td>\n",
       "      <td>1</td>\n",
       "    </tr>\n",
       "    <tr>\n",
       "      <th>4</th>\n",
       "      <td>d3</td>\n",
       "      <td>e2</td>\n",
       "      <td>1</td>\n",
       "    </tr>\n",
       "  </tbody>\n",
       "</table>\n",
       "</div>"
      ],
      "text/plain": [
       "  doc_id exp_id  weight\n",
       "0     d1     e1       1\n",
       "1     d1     e2       1\n",
       "2     d2     e1       1\n",
       "3     d2     e3       1\n",
       "4     d3     e2       1"
      ]
     },
     "metadata": {},
     "output_type": "display_data"
    }
   ],
   "source": [
    "display(doc_df)\n",
    "display(ed_df)"
   ]
  },
  {
   "cell_type": "markdown",
   "metadata": {},
   "source": [
    "# Data generation"
   ]
  },
  {
   "cell_type": "markdown",
   "metadata": {},
   "source": [
    "## Expert-document matrix"
   ]
  },
  {
   "cell_type": "code",
   "execution_count": 7,
   "metadata": {},
   "outputs": [],
   "source": [
    "ed_matrix = generator.generate_ed_matrix(ed_df)"
   ]
  },
  {
   "cell_type": "code",
   "execution_count": 8,
   "metadata": {},
   "outputs": [
    {
     "data": {
      "text/html": [
       "<div>\n",
       "<style scoped>\n",
       "    .dataframe tbody tr th:only-of-type {\n",
       "        vertical-align: middle;\n",
       "    }\n",
       "\n",
       "    .dataframe tbody tr th {\n",
       "        vertical-align: top;\n",
       "    }\n",
       "\n",
       "    .dataframe thead th {\n",
       "        text-align: right;\n",
       "    }\n",
       "</style>\n",
       "<table border=\"1\" class=\"dataframe\">\n",
       "  <thead>\n",
       "    <tr style=\"text-align: right;\">\n",
       "      <th></th>\n",
       "      <th>d1</th>\n",
       "      <th>d2</th>\n",
       "      <th>d3</th>\n",
       "    </tr>\n",
       "  </thead>\n",
       "  <tbody>\n",
       "    <tr>\n",
       "      <th>e1</th>\n",
       "      <td>1</td>\n",
       "      <td>1</td>\n",
       "      <td>0</td>\n",
       "    </tr>\n",
       "    <tr>\n",
       "      <th>e2</th>\n",
       "      <td>1</td>\n",
       "      <td>0</td>\n",
       "      <td>1</td>\n",
       "    </tr>\n",
       "    <tr>\n",
       "      <th>e3</th>\n",
       "      <td>0</td>\n",
       "      <td>1</td>\n",
       "      <td>0</td>\n",
       "    </tr>\n",
       "  </tbody>\n",
       "</table>\n",
       "</div>"
      ],
      "text/plain": [
       "    d1  d2  d3\n",
       "e1   1   1   0\n",
       "e2   1   0   1\n",
       "e3   0   1   0"
      ]
     },
     "metadata": {},
     "output_type": "display_data"
    }
   ],
   "source": [
    "display(ed_matrix)"
   ]
  },
  {
   "cell_type": "markdown",
   "metadata": {},
   "source": [
    "## Document-phrase matrix"
   ]
  },
  {
   "cell_type": "code",
   "execution_count": 9,
   "metadata": {},
   "outputs": [],
   "source": [
    "def dp_pipeline(doc_df, stopwords):\n",
    "    ''' This function contains the pipeline for generating the \n",
    "    document-phrase matrix '''\n",
    "    # Construct corpus (of tokens and noun phrases)\n",
    "    corpus = doc_df['text'].values\n",
    "    X_train = extractor.tokenise_doc(corpus, stopwords, max_phrase_len=3)\n",
    "    \n",
    "    # Generate TF for terms and noun phrases\n",
    "    tf_terms = generator.generate_tf(X_train['tokens'])\n",
    "    tf_phrases = generator.generate_tf(X_train['np'])\n",
    "    \n",
    "    # Generate document-phrase matrix\n",
    "    dp_matrix = generator.generate_dp_matrix(tf_terms, tf_phrases, \n",
    "                                             doc_df['doc_id'], method=\"indirect\")\n",
    "    \n",
    "    \n",
    "    return pd.DataFrame(dp_matrix['matrix'].todense(),\n",
    "                        index=dp_matrix['index'], columns=dp_matrix['columns'])"
   ]
  },
  {
   "cell_type": "code",
   "execution_count": 10,
   "metadata": {},
   "outputs": [],
   "source": [
    "dp_matrix = dp_pipeline(doc_df, stopwords)"
   ]
  },
  {
   "cell_type": "code",
   "execution_count": 11,
   "metadata": {},
   "outputs": [
    {
     "data": {
      "text/html": [
       "<div>\n",
       "<style scoped>\n",
       "    .dataframe tbody tr th:only-of-type {\n",
       "        vertical-align: middle;\n",
       "    }\n",
       "\n",
       "    .dataframe tbody tr th {\n",
       "        vertical-align: top;\n",
       "    }\n",
       "\n",
       "    .dataframe thead th {\n",
       "        text-align: right;\n",
       "    }\n",
       "</style>\n",
       "<table border=\"1\" class=\"dataframe\">\n",
       "  <thead>\n",
       "    <tr style=\"text-align: right;\">\n",
       "      <th></th>\n",
       "      <th>access</th>\n",
       "      <th>application_advantage</th>\n",
       "      <th>approach</th>\n",
       "      <th>article</th>\n",
       "      <th>background</th>\n",
       "      <th>basic_procedure</th>\n",
       "      <th>big_data-empowered_clinical</th>\n",
       "      <th>capability</th>\n",
       "      <th>community</th>\n",
       "      <th>complement</th>\n",
       "      <th>...</th>\n",
       "      <th>real-time_nlp_processing</th>\n",
       "      <th>real_time</th>\n",
       "      <th>relevant_literature</th>\n",
       "      <th>share</th>\n",
       "      <th>structural_health_monitoring</th>\n",
       "      <th>structure</th>\n",
       "      <th>syntactic_feature</th>\n",
       "      <th>unlabeled_text_data</th>\n",
       "      <th>vision_technology</th>\n",
       "      <th>word_embedding</th>\n",
       "    </tr>\n",
       "    <tr>\n",
       "      <th>doc_id</th>\n",
       "      <th></th>\n",
       "      <th></th>\n",
       "      <th></th>\n",
       "      <th></th>\n",
       "      <th></th>\n",
       "      <th></th>\n",
       "      <th></th>\n",
       "      <th></th>\n",
       "      <th></th>\n",
       "      <th></th>\n",
       "      <th></th>\n",
       "      <th></th>\n",
       "      <th></th>\n",
       "      <th></th>\n",
       "      <th></th>\n",
       "      <th></th>\n",
       "      <th></th>\n",
       "      <th></th>\n",
       "      <th></th>\n",
       "      <th></th>\n",
       "      <th></th>\n",
       "    </tr>\n",
       "  </thead>\n",
       "  <tbody>\n",
       "    <tr>\n",
       "      <th>d1</th>\n",
       "      <td>1.693147</td>\n",
       "      <td>0.000000</td>\n",
       "      <td>0.000000</td>\n",
       "      <td>0.000000</td>\n",
       "      <td>0.000000</td>\n",
       "      <td>0.000000</td>\n",
       "      <td>1.693147</td>\n",
       "      <td>1.693147</td>\n",
       "      <td>0.000000</td>\n",
       "      <td>0.000000</td>\n",
       "      <td>...</td>\n",
       "      <td>2.821912</td>\n",
       "      <td>1.693147</td>\n",
       "      <td>0.000000</td>\n",
       "      <td>1.693147</td>\n",
       "      <td>0.564382</td>\n",
       "      <td>0.000000</td>\n",
       "      <td>0.000000</td>\n",
       "      <td>1.128765</td>\n",
       "      <td>0.000000</td>\n",
       "      <td>0.000000</td>\n",
       "    </tr>\n",
       "    <tr>\n",
       "      <th>d2</th>\n",
       "      <td>0.000000</td>\n",
       "      <td>0.000000</td>\n",
       "      <td>0.000000</td>\n",
       "      <td>0.000000</td>\n",
       "      <td>1.693147</td>\n",
       "      <td>1.693147</td>\n",
       "      <td>0.000000</td>\n",
       "      <td>0.000000</td>\n",
       "      <td>0.000000</td>\n",
       "      <td>0.000000</td>\n",
       "      <td>...</td>\n",
       "      <td>1.128765</td>\n",
       "      <td>0.000000</td>\n",
       "      <td>0.000000</td>\n",
       "      <td>0.000000</td>\n",
       "      <td>0.000000</td>\n",
       "      <td>0.000000</td>\n",
       "      <td>1.693147</td>\n",
       "      <td>1.693147</td>\n",
       "      <td>0.000000</td>\n",
       "      <td>3.386294</td>\n",
       "    </tr>\n",
       "    <tr>\n",
       "      <th>d3</th>\n",
       "      <td>0.000000</td>\n",
       "      <td>1.693147</td>\n",
       "      <td>1.693147</td>\n",
       "      <td>1.693147</td>\n",
       "      <td>0.000000</td>\n",
       "      <td>0.000000</td>\n",
       "      <td>0.000000</td>\n",
       "      <td>0.000000</td>\n",
       "      <td>1.693147</td>\n",
       "      <td>1.693147</td>\n",
       "      <td>...</td>\n",
       "      <td>0.000000</td>\n",
       "      <td>0.000000</td>\n",
       "      <td>1.693147</td>\n",
       "      <td>0.000000</td>\n",
       "      <td>8.465735</td>\n",
       "      <td>1.693147</td>\n",
       "      <td>0.000000</td>\n",
       "      <td>0.000000</td>\n",
       "      <td>5.079442</td>\n",
       "      <td>0.000000</td>\n",
       "    </tr>\n",
       "  </tbody>\n",
       "</table>\n",
       "<p>3 rows × 50 columns</p>\n",
       "</div>"
      ],
      "text/plain": [
       "          access  application_advantage  approach   article  background  \\\n",
       "doc_id                                                                    \n",
       "d1      1.693147               0.000000  0.000000  0.000000    0.000000   \n",
       "d2      0.000000               0.000000  0.000000  0.000000    1.693147   \n",
       "d3      0.000000               1.693147  1.693147  1.693147    0.000000   \n",
       "\n",
       "        basic_procedure  big_data-empowered_clinical  capability  community  \\\n",
       "doc_id                                                                        \n",
       "d1             0.000000                     1.693147    1.693147   0.000000   \n",
       "d2             1.693147                     0.000000    0.000000   0.000000   \n",
       "d3             0.000000                     0.000000    0.000000   1.693147   \n",
       "\n",
       "        complement  ...  real-time_nlp_processing  real_time  \\\n",
       "doc_id              ...                                        \n",
       "d1        0.000000  ...                  2.821912   1.693147   \n",
       "d2        0.000000  ...                  1.128765   0.000000   \n",
       "d3        1.693147  ...                  0.000000   0.000000   \n",
       "\n",
       "        relevant_literature     share  structural_health_monitoring  \\\n",
       "doc_id                                                                \n",
       "d1                 0.000000  1.693147                      0.564382   \n",
       "d2                 0.000000  0.000000                      0.000000   \n",
       "d3                 1.693147  0.000000                      8.465735   \n",
       "\n",
       "        structure  syntactic_feature  unlabeled_text_data  vision_technology  \\\n",
       "doc_id                                                                         \n",
       "d1       0.000000           0.000000             1.128765           0.000000   \n",
       "d2       0.000000           1.693147             1.693147           0.000000   \n",
       "d3       1.693147           0.000000             0.000000           5.079442   \n",
       "\n",
       "        word_embedding  \n",
       "doc_id                  \n",
       "d1            0.000000  \n",
       "d2            3.386294  \n",
       "d3            0.000000  \n",
       "\n",
       "[3 rows x 50 columns]"
      ]
     },
     "metadata": {},
     "output_type": "display_data"
    }
   ],
   "source": [
    "display(dp_matrix)"
   ]
  },
  {
   "cell_type": "markdown",
   "metadata": {},
   "source": [
    "## Document-topic matrix"
   ]
  },
  {
   "cell_type": "code",
   "execution_count": 12,
   "metadata": {},
   "outputs": [],
   "source": [
    "MODEL_PATH = './model/'"
   ]
  },
  {
   "cell_type": "code",
   "execution_count": 13,
   "metadata": {},
   "outputs": [],
   "source": [
    "def dtopic_pipeline(dp_matrix, topics):\n",
    "    ''' This function contaisn the pipeline for generating the \n",
    "    document-topic matrix'''\n",
    "    # Load Scibert model\n",
    "    MODEL_DIR = '{}scibert_scivocab_uncased'.format(MODEL_PATH)\n",
    "    model = BertModel.from_pretrained(MODEL_DIR)\n",
    "    tokenizer = BertTokenizer.from_pretrained(MODEL_DIR)\n",
    "    \n",
    "    # Prepare model dictionary\n",
    "    # Note: For the pretrained vectors of phrases, you will need to read here.\n",
    "    # This example does not contain pretrained vectors\n",
    "    model_dict = {\n",
    "        'model': model,\n",
    "        'tokenizer': tokenizer,\n",
    "        'trained_vectors': None\n",
    "    }\n",
    "    \n",
    "    # Generate document-topic matrix\n",
    "    dtopic_matrix, topic_phrase = generator.generate_dtop_matrix(dp_matrix, topics, \n",
    "                                                                 model_dict, top_n=1)\n",
    "    topic_vec = generator.generate_topic_vector(dtopic_matrix)\n",
    "    dtopic_matrix = pd.DataFrame(dtopic_matrix['matrix'].todense(),\n",
    "                                 index=dtopic_matrix['index'], \n",
    "                                 columns=dtopic_matrix['columns'])\n",
    "    \n",
    "    return dtopic_matrix, topic_vec, topic_phrase"
   ]
  },
  {
   "cell_type": "code",
   "execution_count": 14,
   "metadata": {},
   "outputs": [],
   "source": [
    "dtopic_matrix, topic_vec, topic_phrase = dtopic_pipeline(dp_matrix, topics)"
   ]
  },
  {
   "cell_type": "code",
   "execution_count": 15,
   "metadata": {},
   "outputs": [
    {
     "data": {
      "text/plain": [
       "{'health application': [('health_monitoring', 0.831919)],\n",
       " 'natural language processing': [('natural_language_processing', 0.9999999)],\n",
       " 'computer vision': [('computer_vision_technology', 0.84557104)]}"
      ]
     },
     "metadata": {},
     "output_type": "display_data"
    }
   ],
   "source": [
    "display(topic_phrase)"
   ]
  },
  {
   "cell_type": "code",
   "execution_count": 16,
   "metadata": {},
   "outputs": [
    {
     "data": {
      "text/html": [
       "<div>\n",
       "<style scoped>\n",
       "    .dataframe tbody tr th:only-of-type {\n",
       "        vertical-align: middle;\n",
       "    }\n",
       "\n",
       "    .dataframe tbody tr th {\n",
       "        vertical-align: top;\n",
       "    }\n",
       "\n",
       "    .dataframe thead th {\n",
       "        text-align: right;\n",
       "    }\n",
       "</style>\n",
       "<table border=\"1\" class=\"dataframe\">\n",
       "  <thead>\n",
       "    <tr style=\"text-align: right;\">\n",
       "      <th></th>\n",
       "      <th>health application</th>\n",
       "      <th>natural language processing</th>\n",
       "      <th>computer vision</th>\n",
       "    </tr>\n",
       "    <tr>\n",
       "      <th>doc_id</th>\n",
       "      <th></th>\n",
       "      <th></th>\n",
       "      <th></th>\n",
       "    </tr>\n",
       "  </thead>\n",
       "  <tbody>\n",
       "    <tr>\n",
       "      <th>d1</th>\n",
       "      <td>0.32207</td>\n",
       "      <td>0.67793</td>\n",
       "      <td>0.0</td>\n",
       "    </tr>\n",
       "    <tr>\n",
       "      <th>d2</th>\n",
       "      <td>0.00000</td>\n",
       "      <td>1.00000</td>\n",
       "      <td>0.0</td>\n",
       "    </tr>\n",
       "    <tr>\n",
       "      <th>d3</th>\n",
       "      <td>0.60000</td>\n",
       "      <td>0.00000</td>\n",
       "      <td>0.4</td>\n",
       "    </tr>\n",
       "  </tbody>\n",
       "</table>\n",
       "</div>"
      ],
      "text/plain": [
       "        health application  natural language processing  computer vision\n",
       "doc_id                                                                  \n",
       "d1                 0.32207                      0.67793              0.0\n",
       "d2                 0.00000                      1.00000              0.0\n",
       "d3                 0.60000                      0.00000              0.4"
      ]
     },
     "metadata": {},
     "output_type": "display_data"
    },
    {
     "data": {
      "text/html": [
       "<div>\n",
       "<style scoped>\n",
       "    .dataframe tbody tr th:only-of-type {\n",
       "        vertical-align: middle;\n",
       "    }\n",
       "\n",
       "    .dataframe tbody tr th {\n",
       "        vertical-align: top;\n",
       "    }\n",
       "\n",
       "    .dataframe thead th {\n",
       "        text-align: right;\n",
       "    }\n",
       "</style>\n",
       "<table border=\"1\" class=\"dataframe\">\n",
       "  <thead>\n",
       "    <tr style=\"text-align: right;\">\n",
       "      <th></th>\n",
       "      <th>weights</th>\n",
       "    </tr>\n",
       "  </thead>\n",
       "  <tbody>\n",
       "    <tr>\n",
       "      <th>health application</th>\n",
       "      <td>0.307357</td>\n",
       "    </tr>\n",
       "    <tr>\n",
       "      <th>natural language processing</th>\n",
       "      <td>0.559310</td>\n",
       "    </tr>\n",
       "    <tr>\n",
       "      <th>computer vision</th>\n",
       "      <td>0.133333</td>\n",
       "    </tr>\n",
       "  </tbody>\n",
       "</table>\n",
       "</div>"
      ],
      "text/plain": [
       "                              weights\n",
       "health application           0.307357\n",
       "natural language processing  0.559310\n",
       "computer vision              0.133333"
      ]
     },
     "metadata": {},
     "output_type": "display_data"
    }
   ],
   "source": [
    "display(dtopic_matrix)\n",
    "display(topic_vec)"
   ]
  },
  {
   "cell_type": "markdown",
   "metadata": {},
   "source": [
    "## Personalised matrices"
   ]
  },
  {
   "cell_type": "code",
   "execution_count": 17,
   "metadata": {},
   "outputs": [],
   "source": [
    "def personalised_pipeline(ed_df, ed_matrix, dtopic_matrix, topic_vec):\n",
    "    # Generate expoert-document graph\n",
    "    G = generator.generate_ecg(ed_df)\n",
    "    \n",
    "    # Generate personalised matrices \n",
    "    etop_matrix, dtop_matrix = generator.generate_pr_matrix(ed_matrix, \n",
    "                                                            dtopic_matrix, \n",
    "                                                            topic_vec['weights'].values, \n",
    "                                                            G, alpha=0.0)\n",
    "    \n",
    "    # Construct DataFrame\n",
    "    etop_matrix = pd.DataFrame(etop_matrix['matrix'].todense(),\n",
    "                               index=etop_matrix['index'],\n",
    "                               columns=etop_matrix['columns'])\n",
    "    dtop_matrix = pd.DataFrame(dtop_matrix['matrix'].todense(),\n",
    "                               index=dtop_matrix['index'],\n",
    "                               columns=dtop_matrix['columns'])\n",
    "    \n",
    "    return etop_matrix, dtop_matrix, G"
   ]
  },
  {
   "cell_type": "code",
   "execution_count": 18,
   "metadata": {},
   "outputs": [],
   "source": [
    "exp_pr_df, doc_pr_df, ed_graph = personalised_pipeline(ed_df, ed_matrix, dtopic_matrix, topic_vec)"
   ]
  },
  {
   "cell_type": "code",
   "execution_count": 19,
   "metadata": {},
   "outputs": [
    {
     "data": {
      "text/html": [
       "<div>\n",
       "<style scoped>\n",
       "    .dataframe tbody tr th:only-of-type {\n",
       "        vertical-align: middle;\n",
       "    }\n",
       "\n",
       "    .dataframe tbody tr th {\n",
       "        vertical-align: top;\n",
       "    }\n",
       "\n",
       "    .dataframe thead th {\n",
       "        text-align: right;\n",
       "    }\n",
       "</style>\n",
       "<table border=\"1\" class=\"dataframe\">\n",
       "  <thead>\n",
       "    <tr style=\"text-align: right;\">\n",
       "      <th></th>\n",
       "      <th>health application</th>\n",
       "      <th>natural language processing</th>\n",
       "      <th>computer vision</th>\n",
       "    </tr>\n",
       "  </thead>\n",
       "  <tbody>\n",
       "    <tr>\n",
       "      <th>e1</th>\n",
       "      <td>0.32207</td>\n",
       "      <td>1.67793</td>\n",
       "      <td>0.0</td>\n",
       "    </tr>\n",
       "    <tr>\n",
       "      <th>e2</th>\n",
       "      <td>0.92207</td>\n",
       "      <td>0.67793</td>\n",
       "      <td>0.4</td>\n",
       "    </tr>\n",
       "    <tr>\n",
       "      <th>e3</th>\n",
       "      <td>0.00000</td>\n",
       "      <td>1.00000</td>\n",
       "      <td>0.0</td>\n",
       "    </tr>\n",
       "  </tbody>\n",
       "</table>\n",
       "</div>"
      ],
      "text/plain": [
       "    health application  natural language processing  computer vision\n",
       "e1             0.32207                      1.67793              0.0\n",
       "e2             0.92207                      0.67793              0.4\n",
       "e3             0.00000                      1.00000              0.0"
      ]
     },
     "metadata": {},
     "output_type": "display_data"
    },
    {
     "data": {
      "text/html": [
       "<div>\n",
       "<style scoped>\n",
       "    .dataframe tbody tr th:only-of-type {\n",
       "        vertical-align: middle;\n",
       "    }\n",
       "\n",
       "    .dataframe tbody tr th {\n",
       "        vertical-align: top;\n",
       "    }\n",
       "\n",
       "    .dataframe thead th {\n",
       "        text-align: right;\n",
       "    }\n",
       "</style>\n",
       "<table border=\"1\" class=\"dataframe\">\n",
       "  <thead>\n",
       "    <tr style=\"text-align: right;\">\n",
       "      <th></th>\n",
       "      <th>health application</th>\n",
       "      <th>natural language processing</th>\n",
       "      <th>computer vision</th>\n",
       "    </tr>\n",
       "  </thead>\n",
       "  <tbody>\n",
       "    <tr>\n",
       "      <th>d1</th>\n",
       "      <td>0.32207</td>\n",
       "      <td>0.67793</td>\n",
       "      <td>0.0</td>\n",
       "    </tr>\n",
       "    <tr>\n",
       "      <th>d2</th>\n",
       "      <td>0.00000</td>\n",
       "      <td>1.00000</td>\n",
       "      <td>0.0</td>\n",
       "    </tr>\n",
       "    <tr>\n",
       "      <th>d3</th>\n",
       "      <td>0.60000</td>\n",
       "      <td>0.00000</td>\n",
       "      <td>0.4</td>\n",
       "    </tr>\n",
       "  </tbody>\n",
       "</table>\n",
       "</div>"
      ],
      "text/plain": [
       "    health application  natural language processing  computer vision\n",
       "d1             0.32207                      0.67793              0.0\n",
       "d2             0.00000                      1.00000              0.0\n",
       "d3             0.60000                      0.00000              0.4"
      ]
     },
     "metadata": {},
     "output_type": "display_data"
    }
   ],
   "source": [
    "display(exp_pr_df.loc[['e1', 'e2', 'e3']])\n",
    "display(doc_pr_df.loc[['d1', 'd2', 'd3']])"
   ]
  },
  {
   "cell_type": "markdown",
   "metadata": {},
   "source": [
    "## Counted vectors"
   ]
  },
  {
   "cell_type": "code",
   "execution_count": 20,
   "metadata": {},
   "outputs": [],
   "source": [
    "def cv_pipeline(ed_matrix, ed_graph):\n",
    "        # Generate CV expert-document\n",
    "    exp_vec, doc_vec = generator.generate_ed_vector(ed_matrix, ed_graph)\n",
    "    \n",
    "    return exp_vec, doc_vec"
   ]
  },
  {
   "cell_type": "code",
   "execution_count": 21,
   "metadata": {},
   "outputs": [],
   "source": [
    "ed_count, de_count = cv_pipeline(ed_matrix, ed_graph)"
   ]
  },
  {
   "cell_type": "code",
   "execution_count": 22,
   "metadata": {},
   "outputs": [
    {
     "data": {
      "text/html": [
       "<div>\n",
       "<style scoped>\n",
       "    .dataframe tbody tr th:only-of-type {\n",
       "        vertical-align: middle;\n",
       "    }\n",
       "\n",
       "    .dataframe tbody tr th {\n",
       "        vertical-align: top;\n",
       "    }\n",
       "\n",
       "    .dataframe thead th {\n",
       "        text-align: right;\n",
       "    }\n",
       "</style>\n",
       "<table border=\"1\" class=\"dataframe\">\n",
       "  <thead>\n",
       "    <tr style=\"text-align: right;\">\n",
       "      <th></th>\n",
       "      <th>count</th>\n",
       "    </tr>\n",
       "  </thead>\n",
       "  <tbody>\n",
       "    <tr>\n",
       "      <th>d1</th>\n",
       "      <td>1</td>\n",
       "    </tr>\n",
       "    <tr>\n",
       "      <th>e1</th>\n",
       "      <td>2</td>\n",
       "    </tr>\n",
       "    <tr>\n",
       "      <th>e2</th>\n",
       "      <td>2</td>\n",
       "    </tr>\n",
       "    <tr>\n",
       "      <th>d2</th>\n",
       "      <td>1</td>\n",
       "    </tr>\n",
       "    <tr>\n",
       "      <th>e3</th>\n",
       "      <td>1</td>\n",
       "    </tr>\n",
       "    <tr>\n",
       "      <th>d3</th>\n",
       "      <td>1</td>\n",
       "    </tr>\n",
       "  </tbody>\n",
       "</table>\n",
       "</div>"
      ],
      "text/plain": [
       "    count\n",
       "d1      1\n",
       "e1      2\n",
       "e2      2\n",
       "d2      1\n",
       "e3      1\n",
       "d3      1"
      ]
     },
     "metadata": {},
     "output_type": "display_data"
    },
    {
     "data": {
      "text/html": [
       "<div>\n",
       "<style scoped>\n",
       "    .dataframe tbody tr th:only-of-type {\n",
       "        vertical-align: middle;\n",
       "    }\n",
       "\n",
       "    .dataframe tbody tr th {\n",
       "        vertical-align: top;\n",
       "    }\n",
       "\n",
       "    .dataframe thead th {\n",
       "        text-align: right;\n",
       "    }\n",
       "</style>\n",
       "<table border=\"1\" class=\"dataframe\">\n",
       "  <thead>\n",
       "    <tr style=\"text-align: right;\">\n",
       "      <th></th>\n",
       "      <th>count</th>\n",
       "    </tr>\n",
       "  </thead>\n",
       "  <tbody>\n",
       "    <tr>\n",
       "      <th>d1</th>\n",
       "      <td>2</td>\n",
       "    </tr>\n",
       "    <tr>\n",
       "      <th>e1</th>\n",
       "      <td>1</td>\n",
       "    </tr>\n",
       "    <tr>\n",
       "      <th>e2</th>\n",
       "      <td>1</td>\n",
       "    </tr>\n",
       "    <tr>\n",
       "      <th>d2</th>\n",
       "      <td>2</td>\n",
       "    </tr>\n",
       "    <tr>\n",
       "      <th>e3</th>\n",
       "      <td>1</td>\n",
       "    </tr>\n",
       "    <tr>\n",
       "      <th>d3</th>\n",
       "      <td>1</td>\n",
       "    </tr>\n",
       "  </tbody>\n",
       "</table>\n",
       "</div>"
      ],
      "text/plain": [
       "    count\n",
       "d1      2\n",
       "e1      1\n",
       "e2      1\n",
       "d2      2\n",
       "e3      1\n",
       "d3      1"
      ]
     },
     "metadata": {},
     "output_type": "display_data"
    }
   ],
   "source": [
    "display(ed_count)\n",
    "display(de_count)"
   ]
  },
  {
   "cell_type": "markdown",
   "metadata": {},
   "source": [
    "# ExpFinder algorithm"
   ]
  },
  {
   "cell_type": "code",
   "execution_count": 23,
   "metadata": {},
   "outputs": [],
   "source": [
    "def ef_pipeline(ed_matrix, ed_graph, exp_pr_df, doc_pr_df, ed_count, de_count):\n",
    "    # Intialise parameters\n",
    "    params = {\n",
    "        'ed_graph': ed_graph,\n",
    "        'ed_matrix': ed_matrix,\n",
    "        'et_matrix': exp_pr_df,\n",
    "        'dt_matrix': doc_pr_df,\n",
    "        'lamb_e': 1.0,\n",
    "        'lamb_d': 0.7,\n",
    "        'max_iter': 5,\n",
    "        'ed_count': ed_count,\n",
    "        'de_count': de_count\n",
    "    }\n",
    "    topics = doc_pr_df.columns\n",
    "    \n",
    "    # Run model\n",
    "    etop_matrix = trainer.run_expfinder(topics, params)\n",
    "    \n",
    "    display(etop_matrix)"
   ]
  },
  {
   "cell_type": "code",
   "execution_count": 24,
   "metadata": {},
   "outputs": [
    {
     "data": {
      "text/html": [
       "<div>\n",
       "<style scoped>\n",
       "    .dataframe tbody tr th:only-of-type {\n",
       "        vertical-align: middle;\n",
       "    }\n",
       "\n",
       "    .dataframe tbody tr th {\n",
       "        vertical-align: top;\n",
       "    }\n",
       "\n",
       "    .dataframe thead th {\n",
       "        text-align: right;\n",
       "    }\n",
       "</style>\n",
       "<table border=\"1\" class=\"dataframe\">\n",
       "  <thead>\n",
       "    <tr style=\"text-align: right;\">\n",
       "      <th></th>\n",
       "      <th>e1</th>\n",
       "      <th>e2</th>\n",
       "      <th>e3</th>\n",
       "    </tr>\n",
       "  </thead>\n",
       "  <tbody>\n",
       "    <tr>\n",
       "      <th>health application</th>\n",
       "      <td>0.571502</td>\n",
       "      <td>0.611617</td>\n",
       "      <td>0.547092</td>\n",
       "    </tr>\n",
       "    <tr>\n",
       "      <th>natural language processing</th>\n",
       "      <td>0.581399</td>\n",
       "      <td>0.549855</td>\n",
       "      <td>0.599696</td>\n",
       "    </tr>\n",
       "    <tr>\n",
       "      <th>computer vision</th>\n",
       "      <td>0.570875</td>\n",
       "      <td>0.608666</td>\n",
       "      <td>0.551024</td>\n",
       "    </tr>\n",
       "  </tbody>\n",
       "</table>\n",
       "</div>"
      ],
      "text/plain": [
       "                                   e1        e2        e3\n",
       "health application           0.571502  0.611617  0.547092\n",
       "natural language processing  0.581399  0.549855  0.599696\n",
       "computer vision              0.570875  0.608666  0.551024"
      ]
     },
     "metadata": {},
     "output_type": "display_data"
    }
   ],
   "source": [
    "ef_pipeline(ed_matrix, ed_graph, exp_pr_df, doc_pr_df, ed_count, de_count)"
   ]
  },
  {
   "cell_type": "code",
   "execution_count": null,
   "metadata": {},
   "outputs": [],
   "source": []
  }
 ],
 "metadata": {
  "kernelspec": {
   "display_name": "Python 3",
   "language": "python",
   "name": "python3"
  },
  "language_info": {
   "codemirror_mode": {
    "name": "ipython",
    "version": 3
   },
   "file_extension": ".py",
   "mimetype": "text/x-python",
   "name": "python",
   "nbconvert_exporter": "python",
   "pygments_lexer": "ipython3",
   "version": "3.7.3"
  },
  "latex_envs": {
   "LaTeX_envs_menu_present": true,
   "autoclose": false,
   "autocomplete": true,
   "bibliofile": "biblio.bib",
   "cite_by": "apalike",
   "current_citInitial": 1,
   "eqLabelWithNumbers": true,
   "eqNumInitial": 1,
   "hotkeys": {
    "equation": "Ctrl-E",
    "itemize": "Ctrl-I"
   },
   "labels_anchors": false,
   "latex_user_defs": false,
   "report_style_numbering": false,
   "user_envs_cfg": false
  },
  "toc": {
   "base_numbering": 1,
   "nav_menu": {},
   "number_sections": true,
   "sideBar": true,
   "skip_h1_title": false,
   "title_cell": "Table of Contents",
   "title_sidebar": "Contents",
   "toc_cell": false,
   "toc_position": {},
   "toc_section_display": true,
   "toc_window_display": false
  }
 },
 "nbformat": 4,
 "nbformat_minor": 4
}
